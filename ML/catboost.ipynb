{
 "nbformat": 4,
 "nbformat_minor": 0,
 "metadata": {
  "colab": {
   "provenance": [],
   "gpuType": "T4"
  },
  "kernelspec": {
   "name": "python3",
   "display_name": "Python 3"
  },
  "language_info": {
   "name": "python"
  },
  "accelerator": "GPU"
 },
 "cells": [
  {
   "cell_type": "code",
   "execution_count": null,
   "metadata": {
    "id": "77A5IGsUsqx1"
   },
   "outputs": [],
   "source": [
    "from catboost import CatBoostClassifier, Pool\n",
    "from sklearn.model_selection import train_test_split\n",
    "from sklearn.metrics import accuracy_score\n",
    "from sklearn.datasets import load_iris\n",
    "import pandas as pd\n",
    "import numpy as np"
   ]
  },
  {
   "cell_type": "code",
   "source": [
    "import pandas as pd\n",
    "from sklearn.model_selection import train_test_split\n",
    "from catboost import CatBoostClassifier\n",
    "from sklearn.metrics import accuracy_score\n",
    "\n",
    "# Assuming you have X and y from a dataset\n",
    "# For example, using the Iris dataset as before\n",
    "iris = load_iris()\n",
    "X, y = iris.data, iris.target\n",
    "\n",
    "# Split the data into training and testing sets\n",
    "X_train, X_test, y_train, y_test = train_test_split(X, y, test_size=0.2, random_state=42)\n",
    "\n",
    "# Create a CatBoostClassifier\n",
    "model = CatBoostClassifier(iterations=100, depth=5, learning_rate=0.1, loss_function='MultiClass')\n",
    "\n",
    "# Fit the model on the training data\n",
    "model.fit(X_train, y_train, verbose_eval=0)\n",
    "\n",
    "# Make predictions on the test data\n",
    "y_pred = model.predict(X_test)\n",
    "\n",
    "y_pred = y_pred.tolist()\n",
    "\n",
    "# Create a DataFrame with 'y_test' and 'y_pred' columns\n",
    "df_result = pd.DataFrame({'y_test': y_test, 'y_pred': y_pred})\n",
    "\n",
    "# Display the DataFrame\n",
    "print(df_result)\n",
    "\n",
    "accuracy = accuracy_score(y_test, y_pred)\n",
    "\n",
    "print(f\"The accuracy of prediction: {accuracy * 100} %\")\n"
   ],
   "metadata": {
    "colab": {
     "base_uri": "https://localhost:8080/"
    },
    "id": "GD6DcZl4x0RP",
    "outputId": "4af25c4a-4365-4b44-aecd-56586eab4a11"
   },
   "execution_count": null,
   "outputs": []
  }
 ]
}
